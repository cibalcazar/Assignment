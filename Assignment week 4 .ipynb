{
    "cells": [
        {
            "metadata": {
                "collapsed": true
            },
            "cell_type": "markdown",
            "source": " # My Jupyter Notebook on IBM Watson Studio"
        },
        {
            "metadata": {},
            "cell_type": "markdown",
            "source": "### Carla Balcazar\nGeospatial analyst "
        },
        {
            "metadata": {},
            "cell_type": "markdown",
            "source": "*I am interested in data analysis because I want to learn how to automate and analyze geospatial data on climate change issues* \n*and so that the results have the least possible bias.*"
        },
        {
            "metadata": {},
            "cell_type": "markdown",
            "source": "### The associative property of multiplication states that the way in which the numbers are grouped in a multiplication problem does not affect or change the product of those numbers"
        },
        {
            "metadata": {},
            "cell_type": "code",
            "source": "2*(4*5)",
            "execution_count": 4,
            "outputs": [
                {
                    "output_type": "execute_result",
                    "execution_count": 4,
                    "data": {
                        "text/plain": "40"
                    },
                    "metadata": {}
                }
            ]
        },
        {
            "metadata": {},
            "cell_type": "code",
            "source": "(2*4)*5",
            "execution_count": 5,
            "outputs": [
                {
                    "output_type": "execute_result",
                    "execution_count": 5,
                    "data": {
                        "text/plain": "40"
                    },
                    "metadata": {}
                }
            ]
        },
        {
            "metadata": {},
            "cell_type": "markdown",
            "source": "#### Things in the kitchen\n* Stove\n* Oven\n* Teapot\n* Table\n* Toaster\n* Microawe\n\n#### Contact\n[This is my linkedin](https://www.linkedin.com/in/cibalcazar/)\n\n\n#### Mollusks utilities in Ecuador\n\n| Species      | Common name   | Utility   |\n|:------------:|:-------------:|:---------:|\n| Bivalves     | several       | food      |\n| Gasteropod   | Churo, caracol| medicine  |\n| Naesiotus sp | Churo, caracol| cosmetics |"
        },
        {
            "metadata": {},
            "cell_type": "code",
            "source": "",
            "execution_count": null,
            "outputs": []
        }
    ],
    "metadata": {
        "kernelspec": {
            "name": "python3",
            "display_name": "Python 3.8",
            "language": "python"
        },
        "language_info": {
            "name": "python",
            "version": "3.8.10",
            "mimetype": "text/x-python",
            "codemirror_mode": {
                "name": "ipython",
                "version": 3
            },
            "pygments_lexer": "ipython3",
            "nbconvert_exporter": "python",
            "file_extension": ".py"
        }
    },
    "nbformat": 4,
    "nbformat_minor": 1
}