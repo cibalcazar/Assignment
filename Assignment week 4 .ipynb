{
    "cells": [
        {
            "cell_type": "markdown",
            "metadata": {
                "collapsed": true
            },
            "source": " # My Jupyter Notebook on IBM Watson Studio"
        },
        {
            "cell_type": "markdown",
            "metadata": {},
            "source": "### Carla Balcazar\nGeospatial analyst "
        },
        {
            "cell_type": "markdown",
            "metadata": {},
            "source": "*I am interested in data analysis because I want to learn how to automate and analyze geospatial data on climate change issues* \n*and so that the results have the least possible bias.*"
        },
        {
            "cell_type": "markdown",
            "metadata": {},
            "source": "### The associative property of multiplication states that the way in which the numbers are grouped in a multiplication problem does not affect or change the product of those numbers"
        },
        {
            "cell_type": "code",
            "execution_count": 4,
            "metadata": {},
            "outputs": [
                {
                    "data": {
                        "text/plain": "40"
                    },
                    "execution_count": 4,
                    "metadata": {},
                    "output_type": "execute_result"
                }
            ],
            "source": "2*(4*5)"
        },
        {
            "cell_type": "code",
            "execution_count": 5,
            "metadata": {},
            "outputs": [
                {
                    "data": {
                        "text/plain": "40"
                    },
                    "execution_count": 5,
                    "metadata": {},
                    "output_type": "execute_result"
                }
            ],
            "source": "(2*4)*5"
        },
        {
            "cell_type": "markdown",
            "metadata": {},
            "source": "#### Things in the kitchen\n* Stove\n* Oven\n* Teapot\n* Table\n* Toaster\n* Microawe\n\n#### Contact\n[This is my linkedin](https://www.linkedin.com/in/cibalcazar/)\n\n\n#### Mollusks utilities in Ecuador\n\n| Species      | Common name   | Utility   |\n|:------------:|:-------------:|:---------:|\n| Bivalves     | several       | food      |\n| Gasteropod   | Churo, caracol| medicine  |\n| Naesiotus sp | Churo, caracol| cosmetics |"
        },
        {
            "cell_type": "code",
            "execution_count": null,
            "metadata": {},
            "outputs": [],
            "source": ""
        }
    ],
    "metadata": {
        "kernelspec": {
            "display_name": "Python 3.8",
            "language": "python",
            "name": "python3"
        },
        "language_info": {
            "codemirror_mode": {
                "name": "ipython",
                "version": 3
            },
            "file_extension": ".py",
            "mimetype": "text/x-python",
            "name": "python",
            "nbconvert_exporter": "python",
            "pygments_lexer": "ipython3",
            "version": "3.8.10"
        }
    },
    "nbformat": 4,
    "nbformat_minor": 1
}